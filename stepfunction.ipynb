{
 "cells": [
  {
   "cell_type": "code",
   "execution_count": null,
   "metadata": {
    "collapsed": true
   },
   "outputs": [],
   "source": [
    "import cv2, matplotlib.pyplot as plt, numpy as np\n",
    "from scipy.special import sici\n",
    "from scipy.optimize import curve_fit"
   ]
  },
  {
   "cell_type": "markdown",
   "metadata": {},
   "source": [
    "## Step function\n",
    "Patrně je to distribuční funkce $F(x)$ výskytu \"výboj\" ve vzdálenosti od středu / dopadu"
   ]
  },
  {
   "cell_type": "code",
   "execution_count": null,
   "metadata": {},
   "outputs": [],
   "source": [
    "def Si(x):\n",
    "    return sici(x)[0]"
   ]
  },
  {
   "cell_type": "code",
   "execution_count": null,
   "metadata": {},
   "outputs": [],
   "source": [
    "endPoint = 6\n",
    "print('Special case of Si(pi)=', Si(np.pi))"
   ]
  },
  {
   "cell_type": "markdown",
   "metadata": {},
   "source": [
    "$F(x) = \\frac{2}{\\pi}\\left(Si(\\pi x) - \\frac{2}{\\pi}\\frac{\\sin(\\pi \\frac{x}{2})^2}{x}\\right)$, \n",
    "\n",
    "kde $Si(x) = \\int_0^x \\frac{\\sin t}{t} dt $"
   ]
  },
  {
   "cell_type": "code",
   "execution_count": null,
   "metadata": {},
   "outputs": [],
   "source": [
    "def original_step_function(x):\n",
    "    sin_2 = np.power(np.sin(np.pi*x/2), 2)\n",
    "    _2_pi = 2/np.pi\n",
    "    return _2_pi*(Si(np.pi*x) - _2_pi*sin_2/x)"
   ]
  },
  {
   "cell_type": "code",
   "execution_count": null,
   "metadata": {},
   "outputs": [],
   "source": [
    "def get_x_values(a, range_):\n",
    "    values = len(a)\n",
    "    return np.interp(range(values), [0, values-1], range_)"
   ]
  },
  {
   "cell_type": "code",
   "execution_count": null,
   "metadata": {},
   "outputs": [],
   "source": [
    "def evaluate_fn(fn, range_, values):\n",
    "    x_values = get_x_values(range(values), range_)\n",
    "    y_values = [fn(x) for x in x_values]\n",
    "    return x_values, y_values"
   ]
  },
  {
   "cell_type": "code",
   "execution_count": null,
   "metadata": {},
   "outputs": [],
   "source": [
    "def plot_fn(fn, range_, values):\n",
    "    return plt.plot(*evaluate_fn(fn, range_, values))"
   ]
  },
  {
   "cell_type": "code",
   "execution_count": null,
   "metadata": {},
   "outputs": [],
   "source": [
    "plot_fn(original_step_function, [1e-8, endPoint], 100);\n",
    "plt.title('Original step function');"
   ]
  },
  {
   "cell_type": "markdown",
   "metadata": {},
   "source": [
    "## Decoupled function\n",
    "Tohle už je pravděpodobnost $p(x)$ čehosi, kde $x$ je vzdálenost od středu. Tedy derivace $F(x)$. "
   ]
  },
  {
   "cell_type": "markdown",
   "metadata": {},
   "source": [
    "Následující kus kódu je opsán \"doslovně\". Udělá derivaci $F(x)$ \"do středu\" a pak $F'(x)$ \"od středu\". "
   ]
  },
  {
   "cell_type": "code",
   "execution_count": null,
   "metadata": {},
   "outputs": [],
   "source": [
    "# ted opisu doslova tvorbu funcDecouple z C\n",
    "_,func = evaluate_fn(original_step_function, [1e-8, endPoint], 100)\n",
    "\n",
    "funcDecouple1 = [0 for _ in range(2*len(func)-1)]\n",
    "for i in range(len(func),0,-1):\n",
    "    if i > 1:\n",
    "        value = func[i-1] - func[i-2]\n",
    "        funcDecouple1[len(func)+i-2] = value\n",
    "        funcDecouple1[len(func)-i] = value\n",
    "    else:\n",
    "        funcDecouple1[len(func)-1] = funcDecouple1[len(func)]"
   ]
  },
  {
   "cell_type": "markdown",
   "metadata": {},
   "source": [
    "Vykreslíme funkci v rozsahu $(-z, z)$, kde $0$ je střed a $z$ je `endPoint`. "
   ]
  },
  {
   "cell_type": "code",
   "execution_count": null,
   "metadata": {},
   "outputs": [],
   "source": [
    "def plot_array(a, range_):\n",
    "    return plt.plot(get_x_values(a, range_), a)"
   ]
  },
  {
   "cell_type": "code",
   "execution_count": null,
   "metadata": {},
   "outputs": [],
   "source": [
    "plot_array(funcDecouple, [-endPoint, endPoint]);\n",
    "plt.title('Func decoupled');"
   ]
  },
  {
   "cell_type": "markdown",
   "metadata": {},
   "source": [
    "Nyní kus kódu přepíši pomocí pythonu. "
   ]
  },
  {
   "cell_type": "code",
   "execution_count": null,
   "metadata": {},
   "outputs": [],
   "source": [
    "_,func = evaluate_fn(original_step_function, [1e-8, endPoint], 100)"
   ]
  },
  {
   "cell_type": "markdown",
   "metadata": {},
   "source": [
    "Nejprve vyrobím derivaci. "
   ]
  },
  {
   "cell_type": "code",
   "execution_count": null,
   "metadata": {},
   "outputs": [],
   "source": [
    "def derivate_a(a):\n",
    "    return (a - np.roll(a, 1))[1:]"
   ]
  },
  {
   "cell_type": "code",
   "execution_count": null,
   "metadata": {},
   "outputs": [],
   "source": [
    "func_d = derivate_a(func)\n",
    "plot_array(func_d, [1e-8, endPoint]);"
   ]
  },
  {
   "cell_type": "markdown",
   "metadata": {},
   "source": [
    "Poté spojím obrácenou derivaci a derivaci do jednoho pole. "
   ]
  },
  {
   "cell_type": "code",
   "execution_count": null,
   "metadata": {},
   "outputs": [],
   "source": [
    "funcDecouple = [x for a in (reversed(func_d), func_d) for x in a]\n",
    "plot_array(funcDecouple, [-endPoint, endPoint]);"
   ]
  },
  {
   "cell_type": "markdown",
   "metadata": {},
   "source": [
    "## Zpracování obrazu ze scintilátoru\n",
    "### Načtení obrazu\n",
    "Pro načtení obrazu použijeme knihovnu OpenCV. "
   ]
  },
  {
   "cell_type": "code",
   "execution_count": null,
   "metadata": {},
   "outputs": [],
   "source": [
    "image = cv2.imread('data.png', cv2.IMREAD_GRAYSCALE);\n",
    "print('rozměry obrazu', image.shape)\n",
    "plt.imshow(image, cmap='gray');"
   ]
  },
  {
   "cell_type": "markdown",
   "metadata": {},
   "source": [
    "Obraz sečteme po sloupcích a dostaneme tak intenzitu v x-ové souřadnici. "
   ]
  },
  {
   "cell_type": "code",
   "execution_count": null,
   "metadata": {},
   "outputs": [],
   "source": [
    "# řádky 46 - 55 v C\n",
    "h1 = np.sum(image/255, axis = 0)\n",
    "plt.plot(h1);\n",
    "plt.title('Intenzita v obraze');"
   ]
  },
  {
   "cell_type": "markdown",
   "metadata": {},
   "source": [
    "### Hledání maxima v obrazu - NEVYUŽITO\n",
    "Pro naletení robustnějšího maxima obraz zprůměrujeme klouzavým \"průměrem\" pomocí konvoluce. "
   ]
  },
  {
   "cell_type": "code",
   "execution_count": null,
   "metadata": {},
   "outputs": [],
   "source": [
    "h1_mov_avg = np.convolve(h1, np.ones(30), 'same')\n",
    "h1_max_x = np.argmax(h1_mov_avg);\n",
    "plt.plot(h1_mov_avg);\n",
    "plt.title('Moving \\'average\\'');\n",
    "# nakreslim caru v maximu\n",
    "plt.plot([h1_max_x, h1_max_x], [f(h1_mov_avg) for f in (np.min, np.max)], 'r')"
   ]
  },
  {
   "cell_type": "code",
   "execution_count": null,
   "metadata": {},
   "outputs": [],
   "source": [
    "print('Maximum je v x=', h1_max_x)\n",
    "print('Hodnota maxima je', h1[h1_max_x])\n",
    "print('Maximální hodnota je', np.max(h1))"
   ]
  },
  {
   "cell_type": "markdown",
   "metadata": {},
   "source": [
    "### Nafitování funkcí na snímek"
   ]
  },
  {
   "cell_type": "markdown",
   "metadata": {},
   "source": [
    "Máme nafitovat několik funkcí na zachycený snímek. První je: \n",
    "\n",
    "$H_{1|ab} (x) = b \\left(\\frac{\\sin(a x)}{a x}\\right)^2 $,\n",
    "\n",
    "kde $a$ a $b$ jsou jakési parametry. Pro $x \\in (-z,z)$. \n",
    "\n",
    "Druhá funkce je:\n",
    "\n",
    "$H_{2|abcdef} (x) =  b \\left(\\frac{\\sin(a (x-f))}{a (x-f)}\\right)^2\n",
    "\\left(c (x-f)^2+1\\right)+d+e(x-f)^2 $\n",
    "\n",
    "**Pozn:** Do jisté míry tyto funkce připomínají $F'(x)$. Mám podezření, že se použijí k postupnému nafitování parametrů, aby funkce $F'(x)$ seděla na obrázek a fitování neselhalo. \n",
    "\n",
    "Pro představu vykreslím funkce s parametry:\n",
    "\n",
    "| Parameter | Value |\n",
    "|:-:|----|\n",
    "| a | 12 |\n",
    "| b | 3.5 |\n",
    "| c | 5 |\n",
    "| d | 0.7 |\n",
    "| e | 0.01 |\n",
    "| f | 0 |"
   ]
  },
  {
   "cell_type": "code",
   "execution_count": null,
   "metadata": {},
   "outputs": [],
   "source": [
    "def func2_orig(x, a, b):\n",
    "    return b*(np.sin(a*x)/(a*x))**2"
   ]
  },
  {
   "cell_type": "code",
   "execution_count": null,
   "metadata": {},
   "outputs": [],
   "source": [
    "def func2_new(x, a, b, c, d, e, f):\n",
    "    y = (x - f)**2\n",
    "    return b*(np.sin(a*(x-f))**2)/(a**2 * y) * (c*y+1) + d + e*y "
   ]
  },
  {
   "cell_type": "code",
   "execution_count": null,
   "metadata": {},
   "outputs": [],
   "source": [
    "plot_fn(lambda x: func2_orig(x, 12, 3.5), [-1,1], 100);\n",
    "plt.title('prvni funkce');"
   ]
  },
  {
   "cell_type": "code",
   "execution_count": null,
   "metadata": {},
   "outputs": [],
   "source": [
    "plot_fn(lambda x: func2_new(x, 12, 3.5, 5, 0.7, 0.01, 0), [-1,1], 100);\n",
    "plt.title('druha funkce');"
   ]
  },
  {
   "cell_type": "markdown",
   "metadata": {},
   "source": [
    "#### Postup fitování\n",
    "\n",
    "- Najdeme $g$ tak, že $g\\cdot \\max_x F'(x) = \\max_x I(x)$, kde $I$ je funkce ze snímku."
   ]
  },
  {
   "cell_type": "code",
   "execution_count": null,
   "metadata": {},
   "outputs": [],
   "source": [
    "g = np.max(h1) / np.max(funcDecouple)"
   ]
  },
  {
   "cell_type": "markdown",
   "metadata": {},
   "source": [
    "- Nalezneme $(a,b)$, aby $H_{1|ab} (x)$ fitovala na $g \\cdot F'(x)$."
   ]
  },
  {
   "cell_type": "code",
   "execution_count": null,
   "metadata": {},
   "outputs": [],
   "source": [
    "(a,b),_ = curve_fit(func2_orig, get_x_values(funcDecouple, [-1,1]), np.array(g)*funcDecouple)\n",
    "print('a,b = ', a, b)"
   ]
  },
  {
   "cell_type": "markdown",
   "metadata": {},
   "source": [
    "- Nalezené $(a,b)$ použijeme jako počáteční pro další fitování. \n",
    "- Nalezneme $(a,b,c,d,e,f)$, aby $H_{2|abcdef} (x)$ fitovala na $I(x)$."
   ]
  },
  {
   "cell_type": "code",
   "execution_count": null,
   "metadata": {},
   "outputs": [],
   "source": [
    "(a,b,c,d,e,f),_ = curve_fit(func2_new, get_x_values(h1, [-1,1]), h1, p0=[a,b,5,0.7,0.01,0])"
   ]
  },
  {
   "cell_type": "code",
   "execution_count": null,
   "metadata": {},
   "outputs": [],
   "source": [
    "for p in 'abcdef': \n",
    "    print('{}{:10.3f}'.format(p, vars()[p]))"
   ]
  },
  {
   "cell_type": "markdown",
   "metadata": {},
   "source": [
    "**Pozor!!!** Některé parametry vycházejí záporně! Třeba dokonce i $a$, což je zvláštní, když $sinc$ je symetrická. \n",
    "\n",
    "**TODO:** Chtělo by to zjistit, v jakém rozmezí se můžou parametry pohybovat a nastavit omezeni pro `curve_fit` parametrem `bounds`. "
   ]
  },
  {
   "cell_type": "markdown",
   "metadata": {},
   "source": [
    "**Pozn:** $H_1$ bude fitování na $\\frac{\\sin x}{x}$ na $F'(x)$ a $H_2$ fituje naměřenou funkci (včetně pozadí). "
   ]
  },
  {
   "cell_type": "markdown",
   "metadata": {},
   "source": [
    "#### Vykreslení nafitovaných funkcí"
   ]
  },
  {
   "cell_type": "markdown",
   "metadata": {},
   "source": [
    "Nafitované parametry $(a,b,c,d,e,f)$ vložíme do následujících funkcí: \n",
    "\n",
    "$G_{|abcf} (x) =  b \\left(\\frac{\\sin(a (x-f))}{a (x-f)}\\right)^2\n",
    "\\left(c (x-f)^2+1\\right) $\n",
    "\n",
    "a funkce odhadující pozadí: \n",
    "\n",
    "$B_{|def} (x) =  d+e(x-f)^2 $"
   ]
  },
  {
   "cell_type": "code",
   "execution_count": null,
   "metadata": {},
   "outputs": [],
   "source": [
    "# parametr f=0 a posunu do grafu data\n",
    "def signal(x):\n",
    "    return func2_new(x,a,b,c,0,0,f=0)\n",
    "def background(x):\n",
    "    # a=1, aby nebylo deleni nulou, b==0 nema vliv\n",
    "    return func2_new(x,1,0,0,d,e,f=0)"
   ]
  },
  {
   "cell_type": "code",
   "execution_count": null,
   "metadata": {},
   "outputs": [],
   "source": [
    "plot_array(h1, [-1-f,1-f]);\n",
    "plot_fn(signal, [-1,1], 100);\n",
    "plot_fn(background, [-1,1], 100);\n",
    "plt.title('Nafitované funkce daty ze scintilátoru');"
   ]
  },
  {
   "cell_type": "markdown",
   "metadata": {},
   "source": [
    "### Naměřená Step function\n",
    "\n",
    "Využijeme kumulativní součet jako numerickou integraci pro získání distribuční funkce z naměřených dat. \n",
    "\n",
    "**Pozn.:** Integrujeme od středu do krajů, tedy od maxima na levou stranu a posléze na pravou stranu. Maximum bereme z nafitované funkce. \n",
    "\n",
    "**Pozn.:** Stejně integrujeme nafitovanou funkci signálu!"
   ]
  },
  {
   "cell_type": "code",
   "execution_count": null,
   "metadata": {},
   "outputs": [],
   "source": [
    "def integrate(a):\n",
    "    return np.cumsum(a)/len(a)"
   ]
  },
  {
   "cell_type": "code",
   "execution_count": null,
   "metadata": {},
   "outputs": [],
   "source": [
    "_,signal_y = evaluate_fn(signal, [-1,1], len(h1));\n",
    "max_x = np.argmax(signal_y)\n",
    "sI_R = integrate(signal_y[max_x:]) # prava cast\n",
    "sI_L = integrate(list(reversed(signal_y[:max_x]))) # leva_cast"
   ]
  },
  {
   "cell_type": "code",
   "execution_count": null,
   "metadata": {},
   "outputs": [],
   "source": [
    "def plot_signal(sI):\n",
    "    return plot_array(sI, [0,2*len(sI)/len(signal_y)*endPoint]);"
   ]
  },
  {
   "cell_type": "code",
   "execution_count": null,
   "metadata": {},
   "outputs": [],
   "source": [
    "plot_signal(sI_R);\n",
    "plot_signal(sI_L);\n",
    "plot_fn(lambda x: original_step_function(x)*b/(np.pi**2) , [1e-8, endPoint], 100);\n",
    "plt.title('srovnani step-functions');\n",
    "plt.legend(labels=['prava cast','leva cast','Original']);"
   ]
  },
  {
   "cell_type": "markdown",
   "metadata": {},
   "source": [
    "**Pozor!!!** Originální step-function je potřeba ještě vhodně přeškálovat. Nebyl jsem sto určit vztah mezi parametry a originální step-function. Můj odhad je $\\frac{1}{\\pi^2}$. Postup v C nešlo aplikovat, protože aproximace vychází záporná (asi protože $ c < 0 $) a integrál tak klesá. "
   ]
  },
  {
   "cell_type": "markdown",
   "metadata": {},
   "source": [
    "## Předchozí pokusy"
   ]
  },
  {
   "cell_type": "code",
   "execution_count": null,
   "metadata": {},
   "outputs": [],
   "source": [
    "# upravíme osu x do správného rozsahu -1;1\n",
    "\n",
    "x_values = np.interp(range(image.shape[1]), [0, image.shape[1]-1], [-1, 1])\n",
    "plt.plot(x_values, h1)"
   ]
  },
  {
   "cell_type": "code",
   "execution_count": null,
   "metadata": {},
   "outputs": [],
   "source": [
    "endpoint = 4\n",
    "values_cnt = len(h1)\n",
    "x_values = np.interp(range(values_cnt), [0, values_cnt-1], [1e-8, endpoint])\n",
    "plt.plot(x_values, np.cumsum(h1))"
   ]
  },
  {
   "cell_type": "code",
   "execution_count": null,
   "metadata": {},
   "outputs": [],
   "source": [
    "# chceme integrovat odf stredu, vezmeme druhou pulku\n",
    "def array_half(a):\n",
    "    return a[int(len(a)/2):]\n",
    "x_values_half = array_half(x_values)\n",
    "h1_half = array_half(h1)\n",
    "x_values = np.interp(range(values_cnt), [0, values_cnt-1], [1e-8, endpoint])\n",
    "plt.plot(x_values_half, np.cumsum(h1_half))"
   ]
  },
  {
   "cell_type": "code",
   "execution_count": null,
   "metadata": {},
   "outputs": [],
   "source": [
    "def prob(x): \n",
    "    _2_pi = 2/np.pi\n",
    "    sinint,_ = sici(np.pi*x)\n",
    "    sin_2 = np.power(np.sin(np.pi*x/2), 2)\n",
    "    return _2_pi*(sinint - _2_pi*sin_2/x)"
   ]
  },
  {
   "cell_type": "code",
   "execution_count": null,
   "metadata": {},
   "outputs": [],
   "source": [
    "endpoint = 4\n",
    "values_cnt = image.shape[1]\n",
    "x_values = np.interp(range(values_cnt), [0, values_cnt-1], [1e-8, endpoint])\n",
    "upper_bound = [prob(x) for x in x_values]\n",
    "plt.plot(x_values, upper_bound)"
   ]
  },
  {
   "cell_type": "code",
   "execution_count": null,
   "metadata": {},
   "outputs": [],
   "source": [
    "def derivation(a): \n",
    "    d = a - np.roll(a, -1)\n",
    "    d[-1] = d[-2]\n",
    "    return -d"
   ]
  },
  {
   "cell_type": "code",
   "execution_count": null,
   "metadata": {},
   "outputs": [],
   "source": [
    "plt.plot(x_values, derivation(upper_bound))"
   ]
  },
  {
   "cell_type": "code",
   "execution_count": null,
   "metadata": {},
   "outputs": [],
   "source": []
  }
 ],
 "metadata": {
  "kernelspec": {
   "display_name": "Python 3",
   "language": "python",
   "name": "python3"
  },
  "language_info": {
   "codemirror_mode": {
    "name": "ipython",
    "version": 3
   },
   "file_extension": ".py",
   "mimetype": "text/x-python",
   "name": "python",
   "nbconvert_exporter": "python",
   "pygments_lexer": "ipython3",
   "version": "3.6.5"
  }
 },
 "nbformat": 4,
 "nbformat_minor": 2
}
