{
 "cells": [
  {
   "cell_type": "code",
   "execution_count": null,
   "metadata": {
    "collapsed": true
   },
   "outputs": [],
   "source": [
    "import cv2, matplotlib.pyplot as plt, numpy as np\n",
    "from scipy.special import sici"
   ]
  },
  {
   "cell_type": "markdown",
   "metadata": {},
   "source": [
    "## Step function\n",
    "Patrně je to distribuční funkce $F(x)$ výskytu \"výboj\" ve vzdálenosti od středu / dopadu"
   ]
  },
  {
   "cell_type": "code",
   "execution_count": null,
   "metadata": {},
   "outputs": [],
   "source": [
    "def Si(x):\n",
    "    return sici(x)[0]"
   ]
  },
  {
   "cell_type": "code",
   "execution_count": null,
   "metadata": {},
   "outputs": [],
   "source": [
    "endPoint = 6\n",
    "print('Special case of Si(pi)=', Si(np.pi))"
   ]
  },
  {
   "cell_type": "markdown",
   "metadata": {},
   "source": [
    "$F(x) = \\frac{2}{\\pi}\\left(Si(\\pi x) - \\frac{2}{\\pi}\\frac{\\sin(\\pi \\frac{x}{2})^2}{x}\\right)$"
   ]
  },
  {
   "cell_type": "code",
   "execution_count": null,
   "metadata": {},
   "outputs": [],
   "source": [
    "def original_step_function(x):\n",
    "    sin_2 = np.power(np.sin(np.pi*x/2), 2)\n",
    "    _2_pi = 2/np.pi\n",
    "    return _2_pi*(Si(np.pi*x) - _2_pi*sin_2/x)"
   ]
  },
  {
   "cell_type": "code",
   "execution_count": null,
   "metadata": {},
   "outputs": [],
   "source": [
    "def get_x_values(a, range_):\n",
    "    values = len(a)\n",
    "    return np.interp(range(values), [0, values-1], range_)"
   ]
  },
  {
   "cell_type": "code",
   "execution_count": null,
   "metadata": {},
   "outputs": [],
   "source": [
    "def evaluate_fn(fn, range_, values):\n",
    "    x_values = get_x_values(range(values), range_)\n",
    "    y_values = [fn(x) for x in x_values]\n",
    "    return x_values, y_values"
   ]
  },
  {
   "cell_type": "code",
   "execution_count": null,
   "metadata": {},
   "outputs": [],
   "source": [
    "def plot_fn(fn, range_, values):\n",
    "    return plt.plot(*evaluate_fn(fn, range_, values))"
   ]
  },
  {
   "cell_type": "code",
   "execution_count": null,
   "metadata": {},
   "outputs": [],
   "source": [
    "plot_fn(original_step_function, [1e-8, endPoint], 100);\n",
    "plt.title('Original step function');"
   ]
  },
  {
   "cell_type": "markdown",
   "metadata": {},
   "source": [
    "## Decoupled function\n",
    "Tohle už je pravděpodobnost $p(x)$ čehosi, kde $x$ je vzdálenost od středu. Tedy derivace $F(x)$. "
   ]
  },
  {
   "cell_type": "markdown",
   "metadata": {},
   "source": [
    "Následující kus kódu je opsán \"doslovně\". Udělá derivaci $F(x)$ \"do středu\" a pak $F'(x)$ \"od středu\". "
   ]
  },
  {
   "cell_type": "code",
   "execution_count": null,
   "metadata": {},
   "outputs": [],
   "source": [
    "# ted opisu doslova tvorbu funcDecouple z C\n",
    "_,func = evaluate_fn(original_step_function, [1e-8, endPoint], 100)\n",
    "\n",
    "funcDecouple = [0 for _ in range(2*len(func)-1)]\n",
    "for i in range(len(func),0,-1):\n",
    "    if i > 1:\n",
    "        value = func[i-1] - func[i-2]\n",
    "        funcDecouple[len(func)+i-2] = value\n",
    "        funcDecouple[len(func)-i] = value\n",
    "    else:\n",
    "        funcDecouple[len(func)-1] = funcDecouple[len(func)]"
  {
   "cell_type": "markdown",
   "metadata": {},
   "source": [
    "Vykreslíme funkci v rozsahu $(-z, z)$, kde $0$ je střed a $z$ je `endPoint`. "
   ]
  },
  {
   "cell_type": "code",
   "execution_count": null,
   "metadata": {},
   "outputs": [],
   "source": [
    "def plot_array(a, range_):\n",
    "    return plt.plot(get_x_values(a, range_), a)"
   ]
  },
  {
   "cell_type": "code",
   "execution_count": null,
   "metadata": {},
   "outputs": [],
   "source": [
    "plot_array(funcDecouple, [-endPoint, endPoint]);\n",
    "plt.title('Func decoupled');"
   ]
  },
  {
   "cell_type": "code",
   "execution_count": null,
   "metadata": {},
   "outputs": [],
   "source": [
    "image = cv2.imread('data.png',0);\n",
    "print(image.shape)\n",
    "plt.imshow(image, cmap='gray');"
   ]
  },
  {
   "cell_type": "code",
   "execution_count": null,
   "metadata": {},
   "outputs": [],
   "source": [
    "# řádky 46 - 55 v C\n",
    "h1 = np.sum(image/255, axis = 0)\n",
    "plt.plot(h1)"
   ]
  },
  {
   "cell_type": "code",
   "execution_count": null,
   "metadata": {},
   "outputs": [],
   "source": [
    "# upravíme osu x do správného rozsahu -1;1\n",
    "\n",
    "x_values = np.interp(range(image.shape[1]), [0, image.shape[1]-1], [-1, 1])\n",
    "plt.plot(x_values, h1)"
   ]
  },
  {
   "cell_type": "code",
   "execution_count": null,
   "metadata": {},
   "outputs": [],
   "source": [
    "endpoint = 4\n",
    "values_cnt = len(h1)\n",
    "x_values = np.interp(range(values_cnt), [0, values_cnt-1], [1e-8, endpoint])\n",
    "plt.plot(x_values, np.cumsum(h1))"
   ]
  },
  {
   "cell_type": "code",
   "execution_count": null,
   "metadata": {},
   "outputs": [],
   "source": [
    "# chceme integrovat odf stredu, vezmeme druhou pulku\n",
    "def array_half(a):\n",
    "    return a[int(len(a)/2):]\n",
    "x_values_half = array_half(x_values)\n",
    "h1_half = array_half(h1)\n",
    "x_values = np.interp(range(values_cnt), [0, values_cnt-1], [1e-8, endpoint])\n",
    "plt.plot(x_values_half, np.cumsum(h1_half))"
   ]
  },
  {
   "cell_type": "code",
   "execution_count": null,
   "metadata": {},
   "outputs": [],
   "source": [
    "def prob(x): \n",
    "    _2_pi = 2/np.pi\n",
    "    sinint,_ = sici(np.pi*x)\n",
    "    sin_2 = np.power(np.sin(np.pi*x/2), 2)\n",
    "    return _2_pi*(sinint - _2_pi*sin_2/x)"
   ]
  },
  {
   "cell_type": "code",
   "execution_count": null,
   "metadata": {},
   "outputs": [],
   "source": [
    "endpoint = 4\n",
    "values_cnt = image.shape[1]\n",
    "x_values = np.interp(range(values_cnt), [0, values_cnt-1], [1e-8, endpoint])\n",
    "upper_bound = [prob(x) for x in x_values]\n",
    "plt.plot(x_values, upper_bound)"
   ]
  },
  {
   "cell_type": "code",
   "execution_count": null,
   "metadata": {},
   "outputs": [],
   "source": [
    "def derivation(a): \n",
    "    d = a - np.roll(a, -1)\n",
    "    d[-1] = d[-2]\n",
    "    return -d"
   ]
  },
  {
   "cell_type": "code",
   "execution_count": null,
   "metadata": {},
   "outputs": [],
   "source": [
    "plt.plot(x_values, derivation(upper_bound))"
   ]
  },
  {
   "cell_type": "code",
   "execution_count": null,
   "metadata": {},
   "outputs": [],
   "source": []
  }
 ],
 "metadata": {
  "kernelspec": {
   "display_name": "Python 3",
   "language": "python",
   "name": "python3"
  },
  "language_info": {
   "codemirror_mode": {
    "name": "ipython",
    "version": 3
   },
   "file_extension": ".py",
   "mimetype": "text/x-python",
   "name": "python",
   "nbconvert_exporter": "python",
   "pygments_lexer": "ipython3",
   "version": "3.6.5"
  }
 },
 "nbformat": 4,
 "nbformat_minor": 2
}
